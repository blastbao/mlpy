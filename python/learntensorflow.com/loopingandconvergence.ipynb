{
 "cells": [
  {
   "cell_type": "code",
   "execution_count": 1,
   "metadata": {
    "collapsed": false
   },
   "outputs": [
    {
     "name": "stdout",
     "output_type": "stream",
     "text": [
      "1.0\n",
      "2.0\n",
      "3.0\n",
      "4.0\n",
      "5.0\n"
     ]
    }
   ],
   "source": [
    "import tensorflow as tf\n",
    "\n",
    "x = tf.Variable(0., name=\"x\")\n",
    "threshold = tf.constant(5.)\n",
    "\n",
    "model = tf.initialize_all_variables()\n",
    "\n",
    "with tf.Session() as session:\n",
    "    session.run(model)\n",
    "    while session.run(tf.less(x, threshold)):\n",
    "        x += 1\n",
    "        x_value = session.run(x)\n",
    "        print(x_value)"
   ]
  },
  {
   "cell_type": "code",
   "execution_count": 2,
   "metadata": {
    "collapsed": false
   },
   "outputs": [
    {
     "name": "stdout",
     "output_type": "stream",
     "text": [
      "Predicted model: 2.052x + 5.669\n"
     ]
    },
    {
     "name": "stderr",
     "output_type": "stream",
     "text": [
      "/usr/local/lib/python3.5/site-packages/numpy/core/_methods.py:59: RuntimeWarning: Mean of empty slice.\n",
      "  warnings.warn(\"Mean of empty slice.\", RuntimeWarning)\n",
      "/usr/local/lib/python3.5/site-packages/numpy/core/_methods.py:70: RuntimeWarning: invalid value encountered in double_scalars\n",
      "  ret = ret.dtype.type(ret / rcount)\n"
     ]
    },
    {
     "data": {
      "image/png": "[encoded data removed]",
      "text/plain": [
       "<matplotlib.figure.Figure at 0x11323c0b8>"
      ]
     },
     "metadata": {},
     "output_type": "display_data"
    }
   ],
   "source": [
    "import tensorflow as tf\n",
    "import numpy as np\n",
    "\n",
    "x = tf.placeholder(tf.float32)\n",
    "y = tf.placeholder(tf.float32)\n",
    "w = tf.Variable([1.0, 2.0], name=\"w\")\n",
    "y_model = tf.mul(x, w[0]) + w[1]\n",
    "error = tf.square(y - y_model)\n",
    "train_op = tf.train.GradientDescentOptimizer(0.01).minimize(error)\n",
    "model = tf.initialize_all_variables()\n",
    "\n",
    "errors = []\n",
    "with tf.Session() as session:\n",
    "    session.run(model)\n",
    "    for i in range(1000):\n",
    "        x_train = tf.random_normal((1,), mean=5, stddev=2.0)\n",
    "        y_train = x_train * 2 + 6\n",
    "        x_value, y_value = session.run([x_train, y_train])\n",
    "        _, error_value = session.run([train_op, error], feed_dict={x: x_value, y: y_value})\n",
    "        errors.append(error_value)\n",
    "    w_value = session.run(w)\n",
    "    print(\"Predicted model: {a:.3f}x + {b:.3f}\".format(a=w_value[0], b=w_value[1]))\n",
    "    \n",
    "import matplotlib.pyplot as plt\n",
    "\n",
    "plt.plot([np.mean(errors[i-50:i]) for i in range(len(errors))])\n",
    "plt.show()\n",
    "plt.savefig(\"errors.png\")"
   ]
  },
  {
   "cell_type": "code",
   "execution_count": null,
   "metadata": {
    "collapsed": true
   },
   "outputs": [],
   "source": []
  }
 ],
 "metadata": {
  "kernelspec": {
   "display_name": "Python 3",
   "language": "python",
   "name": "python3"
  },
  "language_info": {
   "codemirror_mode": {
    "name": "ipython",
    "version": 3
   },
   "file_extension": ".py",
   "mimetype": "text/x-python",
   "name": "python",
   "nbconvert_exporter": "python",
   "pygments_lexer": "ipython3",
   "version": "3.5.2"
  }
 },
 "nbformat": 4,
 "nbformat_minor": 1
}
